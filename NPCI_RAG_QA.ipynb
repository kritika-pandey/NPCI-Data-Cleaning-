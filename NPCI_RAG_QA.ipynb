{
 "cells": [
  {
   "cell_type": "code",
   "execution_count": null,
   "metadata": {},
   "outputs": [],
   "source": [
    "from langchain_community.chat_models import ChatOllama\n",
    "\n",
    "from langchain_community.embeddings import OllamaEmbeddings"
   ]
  },
  {
   "cell_type": "code",
   "execution_count": null,
   "metadata": {},
   "outputs": [],
   "source": [
    "llm = ChatOllama(model=\"llama3:instruct\", temperature=0)\n",
    "# response = llm.invoke(\"who wrote the book godfather?\")\n",
    "# print(response.content)"
   ]
  },
  {
   "cell_type": "code",
   "execution_count": null,
   "metadata": {},
   "outputs": [],
   "source": [
    "from langchain_community.utilities import SQLDatabase\n",
    "\n",
    "# Note: to run in Colab, you need to upload the npci.db file in the repo to the Colab folder first.\n",
    "db = SQLDatabase.from_uri(\"sqlite:///C:/Users/Kritika/Downloads/NPCI Python LLM/npci.db\", sample_rows_in_table_info=0)\n",
    "\n",
    "def get_schema():\n",
    "    return db.get_table_info()"
   ]
  },
  {
   "cell_type": "code",
   "execution_count": null,
   "metadata": {},
   "outputs": [],
   "source": [
    "#Aiming to get Bank Category and the highest ATM & CRM onsite number along with the bank name associated with it. This will be achieved in two steps:\n",
    "Step 1: This will retrieve the list of banks which has highest ATM & CRM onsite number and the respective bank category\n",
    "Step 2: The output from Step 1 will be fed into the prompt to retrieve result as \"Bank Category\",\"Bank Name\" & \"ATM & CRM onsite\" number altogether"
   ]
  },
  {
   "cell_type": "code",
   "execution_count": null,
   "metadata": {},
   "outputs": [],
   "source": [
    "\n",
    "# Step-1\n",
    "question = \"for all the 'bank category', find the 'bank name' having highest value for 'ATM & CRM on-site\"\n",
    "# Step-2\n",
    "# question = \"for each bank in the list [('DBS INDIA BANK LTD',), ('PAYTM PAYMENTS BANK',), ('HDFC BANK LTD',), ('STATE BANK OF INDIA',), ('ESAF SMALL FINANCE BANK LTD',)] find its bank category and ATM & CRM Onsite\"\n",
    "prompt = f\"\"\"Based on the table schema below, write a SQL query that would answer the user's question. Only return the SQL query with no line separator at the end.\n",
    "\n",
    "Scheme:\n",
    "{get_schema()}\n",
    "\n",
    "\n",
    "Question: {question}\n",
    "\n",
    "SQL Query:\"\"\"\n",
    "\n",
    "print(prompt)"
   ]
  },
  {
   "cell_type": "code",
   "execution_count": null,
   "metadata": {},
   "outputs": [],
   "source": [
    "answer = llm.invoke(prompt)\n",
    "print(answer)\n",
    "\n",
    "result = db.run(answer.content)\n",
    "result"
   ]
  },
  {
   "cell_type": "code",
   "execution_count": null,
   "metadata": {},
   "outputs": [],
   "source": [
    "#Step 2\n",
    "question = \"for each bank in the list [('DBS INDIA BANK LTD',), ('PAYTM PAYMENTS BANK',), ('HDFC BANK LTD',), ('STATE BANK OF INDIA',), ('ESAF SMALL FINANCE BANK LTD',)] find its bank category and ATM & CRM Onsite\"\n",
    "prompt = f\"\"\"Based on the table schema below, write a SQL query that would answer the user's question. Only return the SQL query with no line separator at the end.\n",
    "\n",
    "Scheme:\n",
    "{get_schema()}\n",
    "\n",
    "Question: {question}\n",
    "\n",
    "SQL Query:\"\"\"\n",
    "\n",
    "print(prompt)"
   ]
  },
  {
   "cell_type": "code",
   "execution_count": null,
   "metadata": {},
   "outputs": [],
   "source": [
    "answer = llm.invoke(prompt)\n",
    "print(answer)\n",
    "\n",
    "answer = llm.invoke(prompt)\n",
    "print(answer)"
   ]
  },
  {
   "cell_type": "code",
   "execution_count": null,
   "metadata": {},
   "outputs": [],
   "source": [
    "#query 2\n",
    "question = \"Which bank has the highest Credit Card Card Payments Transactions Online(e-com)?\"\n",
    "prompt = f\"\"\"Based on the table schema below, write a SQL query that would answer the user's question. Only return the SQL query with no line separator at the end.\n",
    "\n",
    "Scheme:\n",
    "{get_schema()}\n",
    "\n",
    "Question: {question}\n",
    "\n",
    "SQL Query:\"\"\"\n",
    "\n",
    "print(prompt)"
   ]
  },
  {
   "cell_type": "code",
   "execution_count": null,
   "metadata": {},
   "outputs": [],
   "source": [
    "answer = llm.invoke(prompt)\n",
    "print(answer)\n",
    "\n",
    "answer.content\n",
    "result = db.run(answer.content[3:])\n",
    "result"
   ]
  },
  {
   "cell_type": "code",
   "execution_count": null,
   "metadata": {},
   "outputs": [],
   "source": [
    "#later, for reference\n",
    "#\"Which bank has the highest ATM & CRM on-site number under each bank category? Also provide the bank name.\"\n",
    "#question = \"For every bank category, find bank name with highest value for ATM & CRM on-site\" #[('Public Sector Banks', 'STATE BANK OF INDIA', 25232)]\n",
    "# question = \"for all the 'bank category', find the 'bank name' having highest value for 'ATM & CRM on-site'\"\n",
    "# Step-1\n",
    "# question = \"for all the 'bank category', find the 'bank name' having highest value for 'ATM & CRM onsite'\"\n",
    "#question = \"within each 'bank category', pick the 'bank name' with highest value for 'ATM & CRM onsite' and show 'bank name', 'ATM & CRM onsite', 'Bank Category'\"\n",
    "\n",
    "# Step-1\n",
    "question = \"within each 'bank category', pick the 'bank name' with highest value for 'ATM & CRM onsite' and show 'bank name', 'ATM & CRM onsite', 'Bank Category'\"\n",
    "# Step-2\n",
    "# question = \"for each bank in the list [('DBS INDIA BANK LTD',), ('PAYTM PAYMENTS BANK',), ('HDFC BANK LTD',), ('STATE BANK OF INDIA',), ('ESAF SMALL FINANCE BANK LTD',)] find its bank category and ATM & CRM Onsite\"\n",
    "prompt = f\"\"\"Based on the table schema below, write a SQL query that would answer the user's question. Only return the SQL query with no line separator at the end.\n",
    "\n",
    "Scheme:\n",
    "{get_schema()}\n",
    "\n",
    "\n",
    "Question: {question}\n",
    "\n",
    "SQL Query:\"\"\"\n",
    "\n",
    "print(prompt)"
   ]
  }
 ],
 "metadata": {
  "kernelspec": {
   "display_name": "Python 3",
   "language": "python",
   "name": "python3"
  },
  "language_info": {
   "codemirror_mode": {
    "name": "ipython",
    "version": 3
   },
   "file_extension": ".py",
   "mimetype": "text/x-python",
   "name": "python",
   "nbconvert_exporter": "python",
   "pygments_lexer": "ipython3",
   "version": "3.9.13"
  }
 },
 "nbformat": 4,
 "nbformat_minor": 2
}
