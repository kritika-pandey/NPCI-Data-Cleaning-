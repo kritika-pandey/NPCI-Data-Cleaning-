{
 "cells": [
  {
   "cell_type": "code",
   "execution_count": 167,
   "metadata": {},
   "outputs": [],
   "source": [
    "from langchain_community.chat_models import ChatOllama\n",
    "\n",
    "from langchain_community.embeddings import OllamaEmbeddings"
   ]
  },
  {
   "cell_type": "code",
   "execution_count": 168,
   "metadata": {},
   "outputs": [],
   "source": [
    "emb = OllamaEmbeddings(model=\"llama3:instruct\", temperature=0)"
   ]
  },
  {
   "cell_type": "code",
   "execution_count": 170,
   "metadata": {},
   "outputs": [
    {
     "name": "stdout",
     "output_type": "stream",
     "text": [
      "The novel \"The Godfather\" was written by Mario Puzo. The book was published in 1969 and became a huge success, selling millions of copies worldwide. It tells the story of the Corleone family, an Italian-American Mafia family, and their struggles for power and loyalty.\n",
      "\n",
      "Mario Puzo's novel was later adapted into a film directed by Francis Ford Coppola, which also became a massive hit. The movie \"The Godfather\" (1972) is widely considered one of the greatest films of all time, and it won several Academy Awards, including Best Picture.\n",
      "\n",
      "Puzo went on to write several more novels and screenplays, many of which were inspired by his Italian-American heritage and his fascination with organized crime. He passed away in 1999 at the age of 78.\n"
     ]
    }
   ],
   "source": [
    "llm = ChatOllama(model=\"llama3:instruct\", temperature=0)\n",
    "response = llm.invoke(\"who wrote the book godfather?\")\n",
    "print(response.content)"
   ]
  },
  {
   "cell_type": "code",
   "execution_count": 171,
   "metadata": {},
   "outputs": [],
   "source": [
    "from langchain_community.utilities import SQLDatabase\n",
    "\n",
    "# Note: to run in Colab, you need to upload the npci.db file in the repo to the Colab folder first.\n",
    "db = SQLDatabase.from_uri(\"sqlite:///C:/Users/Kritika/Downloads/NPCI Python LLM/npci.db\", sample_rows_in_table_info=0)\n",
    "\n",
    "def get_schema():\n",
    "    return db.get_table_info()"
   ]
  },
  {
   "cell_type": "code",
   "execution_count": 191,
   "metadata": {},
   "outputs": [
    {
     "name": "stdout",
     "output_type": "stream",
     "text": [
      "Based on the table schema below, write a SQL query that would answer the user's question; just return the SQL query and nothing else.\n",
      "\n",
      "Scheme:\n",
      "\n",
      "CREATE TABLE npci_table (\n",
      "\t\"Bank Category\" TEXT, \n",
      "\t\"Bank Name\" TEXT, \n",
      "\t\"ATM & CRM Onsite\" INTEGER, \n",
      "\t\"ATM & CRM Offsite\" INTEGER, \n",
      "\t\"PoS\" INTEGER, \n",
      "\t\"Micro ATM\" INTEGER, \n",
      "\t\"Bharat QR Codes\" INTEGER, \n",
      "\t\"UPI QR Codes\" INTEGER, \n",
      "\t\"Credit Cards\" INTEGER, \n",
      "\t\"Debit Cards\" INTEGER, \n",
      "\t\"CreditCard Card Payments Transactions PoS  Volume (in actuals)\" INTEGER, \n",
      "\t\"Credit Card Card Payments Transactions PoS  Value (in Rs 000)\" INTEGER, \n",
      "\t\"Credit Card Card Payments Transactions Online(e-com)  Volume (in actuals)\" INTEGER, \n",
      "\t\"Credit Card Card Payments Transactions Online(e-com)  Value (in Rs 000)\" INTEGER, \n",
      "\t\"Credit Card Card Payments Transactions Others  Volume (in actuals)\" INTEGER, \n",
      "\t\"Credit Card Card Payments Transactions Others  Value (in Rs 000)\" INTEGER, \n",
      "\t\"Credit Card Cash Withdrawal At ATM Volume (in actuals)\" INTEGER, \n",
      "\t\"Credit Card Cash Withdrawal At ATM Value (in Rs 000)\" INTEGER, \n",
      "\t\"Debit Card Card Payments Transactions PoS  Volume (in actuals)\" INTEGER, \n",
      "\t\"Debit Card Card Payments Transactions PoS  Value (in Rs 000)\" INTEGER, \n",
      "\t\"Debit Card Card Payments Transactions Online(e-com)  Volume (in actuals)\" INTEGER, \n",
      "\t\"Debit Card Card Payments Transactions Online(e-com)  Value (in Rs 000)\" INTEGER, \n",
      "\t\"Debit Card Card Payments Transactions Others  Volume (in actuals)\" INTEGER, \n",
      "\t\"Debit Card Card Payments Transactions Others  Value (in Rs 000)\" INTEGER, \n",
      "\t\"Debit Card Cash Withdrawal ATM Volume (in actuals)\" INTEGER, \n",
      "\t\"Debit Card Cash Withdrawal ATM Value (in Rs 000)\" INTEGER, \n",
      "\t\"Debit Card Cash Withdrawal PoS Volume (in actuals)\" INTEGER, \n",
      "\t\"Debit Card Cash Withdrawal PoS Value (in Rs 000)\" INTEGER\n",
      ")\n",
      "\n",
      "Question: Which bank has the highest ATM & CRM on-site number under each bank category? Give the bank category and bank name along with highest ATM & CRM on-site number.\n",
      "\n",
      "SQL Query:\n"
     ]
    }
   ],
   "source": [
    "\n",
    "question = \"Which bank has the highest ATM & CRM on-site number under each bank category? Give the bank category and bank name along with highest ATM & CRM on-site number.\"\n",
    "prompt = f\"\"\"Based on the table schema below, write a SQL query that would answer the user's question; just return the SQL query and nothing else.\n",
    "\n",
    "Scheme:\n",
    "{get_schema()}\n",
    "\n",
    "Question: {question}\n",
    "\n",
    "SQL Query:\"\"\"\n",
    "\n",
    "print(prompt)"
   ]
  },
  {
   "cell_type": "code",
   "execution_count": 192,
   "metadata": {},
   "outputs": [
    {
     "name": "stdout",
     "output_type": "stream",
     "text": [
      "content='```\\nSELECT \"Bank Category\", \"Bank Name\", MAX(\"ATM & CRM Onsite\") \\nFROM npci_table \\nGROUP BY \"Bank Category\", \"Bank Name\" \\nORDER BY MAX(\"ATM & CRM Onsite\") DESC;' response_metadata={'model': 'llama3:instruct', 'created_at': '2024-08-06T21:37:17.5972657Z', 'message': {'role': 'assistant', 'content': ''}, 'done_reason': 'stop', 'done': True, 'total_duration': 66696124500, 'load_duration': 294303200, 'prompt_eval_count': 533, 'prompt_eval_duration': 15081023000, 'eval_count': 51, 'eval_duration': 51274048000} id='run-bf9dbbd6-3e74-4ecd-9c1a-f67821b6b771-0'\n"
     ]
    }
   ],
   "source": [
    "answer = llm.invoke(prompt)\n",
    "print(answer)"
   ]
  },
  {
   "cell_type": "code",
   "execution_count": 193,
   "metadata": {},
   "outputs": [
    {
     "data": {
      "text/plain": [
       "'\\nSELECT \"Bank Category\", \"Bank Name\", MAX(\"ATM & CRM Onsite\") \\nFROM npci_table \\nGROUP BY \"Bank Category\", \"Bank Name\" \\nORDER BY MAX(\"ATM & CRM Onsite\") DESC;'"
      ]
     },
     "execution_count": 193,
     "metadata": {},
     "output_type": "execute_result"
    }
   ],
   "source": [
    "answer.content[3:]"
   ]
  },
  {
   "cell_type": "code",
   "execution_count": 199,
   "metadata": {},
   "outputs": [],
   "source": [
    "result = db.run(answer.content[3:])"
   ]
  },
  {
   "cell_type": "code",
   "execution_count": 200,
   "metadata": {},
   "outputs": [
    {
     "data": {
      "text/plain": [
       "\"[('Public Sector Banks', 'STATE BANK OF INDIA', 25232), ('Private Sector Banks', 'HDFC BANK LTD', 11395), ('Private Sector Banks', 'ICICI BANK LTD', 9883), ('Public Sector Banks', 'BANK OF BARODA', 8407), ('Public Sector Banks', 'CANARA BANK', 8131), ('Public Sector Banks', 'PUNJAB NATIONAL BANK', 7860), ('Public Sector Banks', 'UNION BANK OF INDIA', 7827), ('Private Sector Banks', 'AXIS BANK LTD', 6168), ('Public Sector Banks', 'BANK OF INDIA', 5328), ('Public Sector Banks', 'INDIAN BANK', 4310), ('Public Sector Banks', 'CENTRAL BANK OF INDIA', 2857), ('Public Sector Banks', 'INDIAN OVERSEAS BANK', 2774), ('Private Sector Banks', 'IDBI BANK LTD', 2299), ('Public Sector Banks', 'UCO BANK', 2251), ('Public Sector Banks', 'BANK OF MAHARASHTRA', 1977), ('Private Sector Banks', 'INDUSIND BANK LTD', 1799), ('Private Sector Banks', 'KOTAK MAHINDRA BANK LTD', 1735), ('Private Sector Banks', 'FEDERAL BANK LTD', 1639), ('Private Sector Banks', 'KARUR VYSYA BANK LTD', 1450), ('Private Sector Banks', 'CITY UNION BANK LTD.', 1123), ('Private Sector Banks', 'YES BANK LTD', 1117), ('Public Sector Banks', 'PUNJAB AND SIND BANK', 949), ('Private Sector Banks', 'JAMMU AND KASHMIR BANK LTD', 937), ('Private Sector Banks', 'SOUTH INDIAN BANK', 904), ('Private Sector Banks', 'KARNATAKA BANK LTD', 903), ('Private Sector Banks', 'IDFC FIRST BANK LTD', 838), ('Small Finance Banks', 'ESAF SMALL FINANCE BANK LTD', 605), ('Private Sector Banks', 'CSB BANK LTD.', 594), ('Small Finance Banks', 'UJJIVAN SMALL FINANCE BANK LTD', 577), ('Small Finance Banks', 'AU SMALL FINANCE BANK LTD', 497), ('Private Sector Banks', 'TAMILNAD MERCANTILE BANK LTD', 494), ('Foreign Banks', 'DBS INDIA BANK LTD', 434), ('Private Sector Banks', 'BANDHAN BANK LTD', 433), ('Private Sector Banks', 'DCB BANK LTD', 412), ('Small Finance Banks', 'EQUITAS SMALL FINANCE BANK LTD', 360), ('Private Sector Banks', 'RBL BANK LTD', 352), ('Small Finance Banks', 'UTKARSH SMALL FINANCE BANK LTD', 313), ('Private Sector Banks', 'DHANALAKSHMI BANK LTD', 239), ('Small Finance Banks', 'UNITY SMALL FINANCE BANK LTD', 231), ('Small Finance Banks', 'CAPITAL SMALL FINANCE BANK LTD', 175), ('Small Finance Banks', 'FINCARE SMALL FINANCE BANK LTD', 171), ('Foreign Banks', 'STANDARD CHARTERED BANK LTD', 101), ('Small Finance Banks', 'JANA SMALL FINANCE BANK LTD', 59), ('Foreign Banks', 'HSBC LTD', 46), ('Small Finance Banks', 'SHIVALIK SMALL FINANCE BANK LTD', 25), ('Small Finance Banks', 'NORTH EAST SMALL FINANCE BANK LTD', 16), ('Foreign Banks', 'DEUTSCHE BANK LTD', 13), ('Foreign Banks', 'BANK OF BAHRAIN & KUWAIT B.S.C.', 2), ('Foreign Banks', 'DOHA BANK Q.P.S.C.', 2), ('Foreign Banks', 'KEB HANA BANK', 1), ('Foreign Banks', 'KOOKMIN BANK', 1), ('Payment Banks', 'PAYTM PAYMENTS BANK', 1), ('Foreign Banks', 'AMERICAN EXPRESS BANKING CORPORATION', 0), ('Foreign Banks', 'BANK OF AMERICA', 0), ('Foreign Banks', 'BARCLAYS BANK PLC', 0), ('Foreign Banks', 'CITI BANK', 0), ('Foreign Banks', 'SBM BANK INDIA LTD', 0), ('Foreign Banks', 'WOORI BANK', 0), ('Payment Banks', 'AIRTEL PAYMENTS BANK', 0), ('Payment Banks', 'FINO PAYMENTS BANK', 0), ('Payment Banks', 'INDIA POST PAYMENTS BANK', 0), ('Payment Banks', 'JIO PAYMENTS BANK', 0), ('Payment Banks', 'NSDL PAYMENTS BANK', 0), ('Private Sector Banks', 'NAINITAL BANK LTD', 0), ('Small Finance Banks', 'SURYODAY SMALL FINANCE BANK LTD', 0)]\""
      ]
     },
     "execution_count": 200,
     "metadata": {},
     "output_type": "execute_result"
    }
   ],
   "source": [
    "result"
   ]
  },
  {
   "cell_type": "code",
   "execution_count": 201,
   "metadata": {},
   "outputs": [
    {
     "name": "stdout",
     "output_type": "stream",
     "text": [
      "Based on the table schema below, write a SQL query that would answer the user's question; just return the SQL query and nothing else.\n",
      "\n",
      "Scheme:\n",
      "\n",
      "CREATE TABLE npci_table (\n",
      "\t\"Bank Category\" TEXT, \n",
      "\t\"Bank Name\" TEXT, \n",
      "\t\"ATM & CRM Onsite\" INTEGER, \n",
      "\t\"ATM & CRM Offsite\" INTEGER, \n",
      "\t\"PoS\" INTEGER, \n",
      "\t\"Micro ATM\" INTEGER, \n",
      "\t\"Bharat QR Codes\" INTEGER, \n",
      "\t\"UPI QR Codes\" INTEGER, \n",
      "\t\"Credit Cards\" INTEGER, \n",
      "\t\"Debit Cards\" INTEGER, \n",
      "\t\"CreditCard Card Payments Transactions PoS  Volume (in actuals)\" INTEGER, \n",
      "\t\"Credit Card Card Payments Transactions PoS  Value (in Rs 000)\" INTEGER, \n",
      "\t\"Credit Card Card Payments Transactions Online(e-com)  Volume (in actuals)\" INTEGER, \n",
      "\t\"Credit Card Card Payments Transactions Online(e-com)  Value (in Rs 000)\" INTEGER, \n",
      "\t\"Credit Card Card Payments Transactions Others  Volume (in actuals)\" INTEGER, \n",
      "\t\"Credit Card Card Payments Transactions Others  Value (in Rs 000)\" INTEGER, \n",
      "\t\"Credit Card Cash Withdrawal At ATM Volume (in actuals)\" INTEGER, \n",
      "\t\"Credit Card Cash Withdrawal At ATM Value (in Rs 000)\" INTEGER, \n",
      "\t\"Debit Card Card Payments Transactions PoS  Volume (in actuals)\" INTEGER, \n",
      "\t\"Debit Card Card Payments Transactions PoS  Value (in Rs 000)\" INTEGER, \n",
      "\t\"Debit Card Card Payments Transactions Online(e-com)  Volume (in actuals)\" INTEGER, \n",
      "\t\"Debit Card Card Payments Transactions Online(e-com)  Value (in Rs 000)\" INTEGER, \n",
      "\t\"Debit Card Card Payments Transactions Others  Volume (in actuals)\" INTEGER, \n",
      "\t\"Debit Card Card Payments Transactions Others  Value (in Rs 000)\" INTEGER, \n",
      "\t\"Debit Card Cash Withdrawal ATM Volume (in actuals)\" INTEGER, \n",
      "\t\"Debit Card Cash Withdrawal ATM Value (in Rs 000)\" INTEGER, \n",
      "\t\"Debit Card Cash Withdrawal PoS Volume (in actuals)\" INTEGER, \n",
      "\t\"Debit Card Cash Withdrawal PoS Value (in Rs 000)\" INTEGER\n",
      ")\n",
      "\n",
      "Question: Which bank has the highest Credit Card Card Payments Transactions Online(e-com)?\n",
      "\n",
      "SQL Query:\n"
     ]
    }
   ],
   "source": [
    "#query 2\n",
    "question = \"Which bank has the highest Credit Card Card Payments Transactions Online(e-com)?\"\n",
    "prompt = f\"\"\"Based on the table schema below, write a SQL query that would answer the user's question; just return the SQL query and nothing else.\n",
    "\n",
    "Scheme:\n",
    "{get_schema()}\n",
    "\n",
    "Question: {question}\n",
    "\n",
    "SQL Query:\"\"\"\n",
    "\n",
    "print(prompt)"
   ]
  },
  {
   "cell_type": "code",
   "execution_count": 202,
   "metadata": {},
   "outputs": [
    {
     "name": "stdout",
     "output_type": "stream",
     "text": [
      "content='```\\nSELECT \"Bank Name\"\\nFROM npci_table\\nORDER BY \"Credit Card Card Payments Transactions Online(e-com)  Value (in Rs 000)\" DESC\\nLIMIT 1;' response_metadata={'model': 'llama3:instruct', 'created_at': '2024-08-06T21:40:38.1411636Z', 'message': {'role': 'assistant', 'content': ''}, 'done_reason': 'stop', 'done': True, 'total_duration': 72284065900, 'load_duration': 152107600, 'prompt_eval_count': 514, 'prompt_eval_duration': 17396773000, 'eval_count': 39, 'eval_duration': 54711265000} id='run-44e1753e-6083-46c9-998e-b2774feea8f6-0'\n"
     ]
    }
   ],
   "source": [
    "answer = llm.invoke(prompt)\n",
    "print(answer)\n",
    "#answer.content[2:]\n",
    "#result = db.run(answer.content[3:])\n",
    "#result"
   ]
  },
  {
   "cell_type": "code",
   "execution_count": 203,
   "metadata": {},
   "outputs": [
    {
     "data": {
      "text/plain": [
       "\"[('HDFC BANK LTD',)]\""
      ]
     },
     "execution_count": 203,
     "metadata": {},
     "output_type": "execute_result"
    }
   ],
   "source": [
    "answer.content\n",
    "result = db.run(answer.content[3:])\n",
    "result"
   ]
  }
 ],
 "metadata": {
  "kernelspec": {
   "display_name": "Python 3",
   "language": "python",
   "name": "python3"
  },
  "language_info": {
   "codemirror_mode": {
    "name": "ipython",
    "version": 3
   },
   "file_extension": ".py",
   "mimetype": "text/x-python",
   "name": "python",
   "nbconvert_exporter": "python",
   "pygments_lexer": "ipython3",
   "version": "3.9.13"
  }
 },
 "nbformat": 4,
 "nbformat_minor": 2
}
