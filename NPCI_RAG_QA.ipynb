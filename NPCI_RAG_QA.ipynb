{
 "cells": [
  {
   "cell_type": "code",
   "execution_count": 1,
   "metadata": {},
   "outputs": [],
   "source": [
    "from langchain_community.chat_models import ChatOllama\n",
    "\n",
    "from langchain_community.embeddings import OllamaEmbeddings"
   ]
  },
  {
   "cell_type": "code",
   "execution_count": 2,
   "metadata": {},
   "outputs": [],
   "source": [
    "llm = ChatOllama(model=\"llama3:instruct\", temperature=0)"
   ]
  },
  {
   "cell_type": "code",
   "execution_count": 3,
   "metadata": {},
   "outputs": [],
   "source": [
    "from langchain_community.utilities import SQLDatabase\n",
    "\n",
    "# Note: to run in Colab, you need to upload the npci.db file in the repo to the Colab folder first.\n",
    "db = SQLDatabase.from_uri(\"sqlite:///C:/Users/Kritika/Downloads/NPCI Python LLM/npci.db\", sample_rows_in_table_info=0)\n",
    "\n",
    "def get_schema():\n",
    "    return db.get_table_info()"
   ]
  },
  {
   "cell_type": "markdown",
   "metadata": {},
   "source": [
    "#The purpose is to instruct the LLM write a query which will identify Bank name with highest ATM & CRM onsite number for each bank category. Instructions will be executed in following two steps:\n",
    "Step 1: This will retrieve the list of banks which has highest ATM & CRM onsite number\n",
    "Step 2: The output from Step 1 will be fed into the prompt to retrieve result as \"Bank Category\",\"Bank Name\" & \"ATM & CRM onsite\" number altogether"
   ]
  },
  {
   "cell_type": "code",
   "execution_count": 4,
   "metadata": {},
   "outputs": [
    {
     "name": "stdout",
     "output_type": "stream",
     "text": [
      "Based on the table schema below, write a SQL query that would answer the user's question. Only return the SQL query with no line separator at the end.\n",
      "\n",
      "Scheme:\n",
      "\n",
      "CREATE TABLE npci_table (\n",
      "\t\"Bank Category\" TEXT, \n",
      "\t\"Bank Name\" TEXT, \n",
      "\t\"ATM & CRM Onsite\" INTEGER, \n",
      "\t\"ATM & CRM Offsite\" INTEGER, \n",
      "\t\"PoS\" INTEGER, \n",
      "\t\"Micro ATM\" INTEGER, \n",
      "\t\"Bharat QR Codes\" INTEGER, \n",
      "\t\"UPI QR Codes\" INTEGER, \n",
      "\t\"Credit Cards\" INTEGER, \n",
      "\t\"Debit Cards\" INTEGER, \n",
      "\t\"CreditCard Card Payments Transactions PoS  Volume (in actuals)\" INTEGER, \n",
      "\t\"Credit Card Card Payments Transactions PoS  Value (in Rs 000)\" INTEGER, \n",
      "\t\"Credit Card Card Payments Transactions Online(e-com)  Volume (in actuals)\" INTEGER, \n",
      "\t\"Credit Card Card Payments Transactions Online(e-com)  Value (in Rs 000)\" INTEGER, \n",
      "\t\"Credit Card Card Payments Transactions Others  Volume (in actuals)\" INTEGER, \n",
      "\t\"Credit Card Card Payments Transactions Others  Value (in Rs 000)\" INTEGER, \n",
      "\t\"Credit Card Cash Withdrawal At ATM Volume (in actuals)\" INTEGER, \n",
      "\t\"Credit Card Cash Withdrawal At ATM Value (in Rs 000)\" INTEGER, \n",
      "\t\"Debit Card Card Payments Transactions PoS  Volume (in actuals)\" INTEGER, \n",
      "\t\"Debit Card Card Payments Transactions PoS  Value (in Rs 000)\" INTEGER, \n",
      "\t\"Debit Card Card Payments Transactions Online(e-com)  Volume (in actuals)\" INTEGER, \n",
      "\t\"Debit Card Card Payments Transactions Online(e-com)  Value (in Rs 000)\" INTEGER, \n",
      "\t\"Debit Card Card Payments Transactions Others  Volume (in actuals)\" INTEGER, \n",
      "\t\"Debit Card Card Payments Transactions Others  Value (in Rs 000)\" INTEGER, \n",
      "\t\"Debit Card Cash Withdrawal ATM Volume (in actuals)\" INTEGER, \n",
      "\t\"Debit Card Cash Withdrawal ATM Value (in Rs 000)\" INTEGER, \n",
      "\t\"Debit Card Cash Withdrawal PoS Volume (in actuals)\" INTEGER, \n",
      "\t\"Debit Card Cash Withdrawal PoS Value (in Rs 000)\" INTEGER\n",
      ")\n",
      "\n",
      "\n",
      "Question: for all the 'bank category', find the 'bank name' having highest value for 'ATM & CRM on-site\n",
      "\n",
      "SQL Query:\n"
     ]
    }
   ],
   "source": [
    "# Step-1\n",
    "question = \"for all the 'bank category', find the 'bank name' having highest value for 'ATM & CRM on-site\"\n",
    "prompt = f\"\"\"Based on the table schema below, write a SQL query that would answer the user's question. Only return the SQL query with no line separator at the end.\n",
    "\n",
    "Scheme:\n",
    "{get_schema()}\n",
    "\n",
    "\n",
    "Question: {question}\n",
    "\n",
    "SQL Query:\"\"\"\n",
    "\n",
    "print(prompt)"
   ]
  },
  {
   "cell_type": "code",
   "execution_count": 5,
   "metadata": {},
   "outputs": [
    {
     "name": "stdout",
     "output_type": "stream",
     "text": [
      "content='SELECT \"Bank Name\" FROM npci_table WHERE (\"Bank Category\", \"ATM & CRM Onsite\") IN (SELECT \"Bank Category\", MAX(\"ATM & CRM Onsite\") FROM npci_table GROUP BY \"Bank Category\");' response_metadata={'model': 'llama3:instruct', 'created_at': '2024-08-11T19:46:18.5379756Z', 'message': {'role': 'assistant', 'content': ''}, 'done_reason': 'stop', 'done': True, 'total_duration': 73878950100, 'load_duration': 133849500, 'prompt_eval_count': 529, 'prompt_eval_duration': 9471937000, 'eval_count': 49, 'eval_duration': 64254195000} id='run-43ef8f2e-6b6d-43ec-8f4a-bed1bbeccbc2-0'\n"
     ]
    },
    {
     "data": {
      "text/plain": [
       "\"[('STATE BANK OF INDIA',), ('HDFC BANK LTD',), ('DBS INDIA BANK LTD',), ('PAYTM PAYMENTS BANK',), ('ESAF SMALL FINANCE BANK LTD',)]\""
      ]
     },
     "execution_count": 5,
     "metadata": {},
     "output_type": "execute_result"
    }
   ],
   "source": [
    "answer = llm.invoke(prompt)\n",
    "print(answer)\n",
    "\n",
    "result = db.run(answer.content)\n",
    "result"
   ]
  },
  {
   "cell_type": "code",
   "execution_count": 6,
   "metadata": {},
   "outputs": [
    {
     "name": "stdout",
     "output_type": "stream",
     "text": [
      "Based on the table schema below, write a SQL query that would answer the user's question. Only return the SQL query with no line separator at the end.\n",
      "\n",
      "Scheme:\n",
      "\n",
      "CREATE TABLE npci_table (\n",
      "\t\"Bank Category\" TEXT, \n",
      "\t\"Bank Name\" TEXT, \n",
      "\t\"ATM & CRM Onsite\" INTEGER, \n",
      "\t\"ATM & CRM Offsite\" INTEGER, \n",
      "\t\"PoS\" INTEGER, \n",
      "\t\"Micro ATM\" INTEGER, \n",
      "\t\"Bharat QR Codes\" INTEGER, \n",
      "\t\"UPI QR Codes\" INTEGER, \n",
      "\t\"Credit Cards\" INTEGER, \n",
      "\t\"Debit Cards\" INTEGER, \n",
      "\t\"CreditCard Card Payments Transactions PoS  Volume (in actuals)\" INTEGER, \n",
      "\t\"Credit Card Card Payments Transactions PoS  Value (in Rs 000)\" INTEGER, \n",
      "\t\"Credit Card Card Payments Transactions Online(e-com)  Volume (in actuals)\" INTEGER, \n",
      "\t\"Credit Card Card Payments Transactions Online(e-com)  Value (in Rs 000)\" INTEGER, \n",
      "\t\"Credit Card Card Payments Transactions Others  Volume (in actuals)\" INTEGER, \n",
      "\t\"Credit Card Card Payments Transactions Others  Value (in Rs 000)\" INTEGER, \n",
      "\t\"Credit Card Cash Withdrawal At ATM Volume (in actuals)\" INTEGER, \n",
      "\t\"Credit Card Cash Withdrawal At ATM Value (in Rs 000)\" INTEGER, \n",
      "\t\"Debit Card Card Payments Transactions PoS  Volume (in actuals)\" INTEGER, \n",
      "\t\"Debit Card Card Payments Transactions PoS  Value (in Rs 000)\" INTEGER, \n",
      "\t\"Debit Card Card Payments Transactions Online(e-com)  Volume (in actuals)\" INTEGER, \n",
      "\t\"Debit Card Card Payments Transactions Online(e-com)  Value (in Rs 000)\" INTEGER, \n",
      "\t\"Debit Card Card Payments Transactions Others  Volume (in actuals)\" INTEGER, \n",
      "\t\"Debit Card Card Payments Transactions Others  Value (in Rs 000)\" INTEGER, \n",
      "\t\"Debit Card Cash Withdrawal ATM Volume (in actuals)\" INTEGER, \n",
      "\t\"Debit Card Cash Withdrawal ATM Value (in Rs 000)\" INTEGER, \n",
      "\t\"Debit Card Cash Withdrawal PoS Volume (in actuals)\" INTEGER, \n",
      "\t\"Debit Card Cash Withdrawal PoS Value (in Rs 000)\" INTEGER\n",
      ")\n",
      "\n",
      "Question: for each bank in the list [('DBS INDIA BANK LTD',), ('PAYTM PAYMENTS BANK',), ('HDFC BANK LTD',), ('STATE BANK OF INDIA',), ('ESAF SMALL FINANCE BANK LTD',)] find its bank category and ATM & CRM Onsite\n",
      "\n",
      "SQL Query:\n"
     ]
    }
   ],
   "source": [
    "#Step 2\n",
    "question = \"for each bank in the list [('DBS INDIA BANK LTD',), ('PAYTM PAYMENTS BANK',), ('HDFC BANK LTD',), ('STATE BANK OF INDIA',), ('ESAF SMALL FINANCE BANK LTD',)] find its bank category and ATM & CRM Onsite\"\n",
    "prompt = f\"\"\"Based on the table schema below, write a SQL query that would answer the user's question. Only return the SQL query with no line separator at the end.\n",
    "\n",
    "Scheme:\n",
    "{get_schema()}\n",
    "\n",
    "Question: {question}\n",
    "\n",
    "SQL Query:\"\"\"\n",
    "\n",
    "print(prompt)"
   ]
  },
  {
   "cell_type": "code",
   "execution_count": 7,
   "metadata": {},
   "outputs": [
    {
     "name": "stdout",
     "output_type": "stream",
     "text": [
      "content='SELECT \"Bank Category\", \"Bank Name\", \"ATM & CRM Onsite\"\\nFROM npci_table\\nWHERE \"Bank Name\" IN (\\'DBS INDIA BANK LTD\\', \\'PAYTM PAYMENTS BANK\\', \\'HDFC BANK LTD\\', \\'STATE BANK OF INDIA\\', \\'ESAF SMALL FINANCE BANK LTD\\')' response_metadata={'model': 'llama3:instruct', 'created_at': '2024-08-11T19:48:32.8468318Z', 'message': {'role': 'assistant', 'content': ''}, 'done_reason': 'stop', 'done': True, 'total_duration': 65862506700, 'load_duration': 84079500, 'prompt_eval_count': 564, 'prompt_eval_duration': 24434395000, 'eval_count': 67, 'eval_duration': 41332108000} id='run-92ccbf7a-2c01-4d0b-97c4-13c557c3abb3-0'\n"
     ]
    },
    {
     "data": {
      "text/plain": [
       "\"[('Public Sector Banks', 'STATE BANK OF INDIA', 25232), ('Private Sector Banks', 'HDFC BANK LTD', 11395), ('Foreign Banks', 'DBS INDIA BANK LTD', 434), ('Payment Banks', 'PAYTM PAYMENTS BANK', 1), ('Small Finance Banks', 'ESAF SMALL FINANCE BANK LTD', 605)]\""
      ]
     },
     "execution_count": 7,
     "metadata": {},
     "output_type": "execute_result"
    }
   ],
   "source": [
    "answer = llm.invoke(prompt)\n",
    "print(answer)\n",
    "\n",
    "result = db.run(answer.content)\n",
    "result"
   ]
  },
  {
   "cell_type": "code",
   "execution_count": 8,
   "metadata": {},
   "outputs": [
    {
     "name": "stdout",
     "output_type": "stream",
     "text": [
      "Based on the table schema below, write a SQL query that would answer the user's question. Only return the SQL query with no line separator at the end.\n",
      "\n",
      "Scheme:\n",
      "\n",
      "CREATE TABLE npci_table (\n",
      "\t\"Bank Category\" TEXT, \n",
      "\t\"Bank Name\" TEXT, \n",
      "\t\"ATM & CRM Onsite\" INTEGER, \n",
      "\t\"ATM & CRM Offsite\" INTEGER, \n",
      "\t\"PoS\" INTEGER, \n",
      "\t\"Micro ATM\" INTEGER, \n",
      "\t\"Bharat QR Codes\" INTEGER, \n",
      "\t\"UPI QR Codes\" INTEGER, \n",
      "\t\"Credit Cards\" INTEGER, \n",
      "\t\"Debit Cards\" INTEGER, \n",
      "\t\"CreditCard Card Payments Transactions PoS  Volume (in actuals)\" INTEGER, \n",
      "\t\"Credit Card Card Payments Transactions PoS  Value (in Rs 000)\" INTEGER, \n",
      "\t\"Credit Card Card Payments Transactions Online(e-com)  Volume (in actuals)\" INTEGER, \n",
      "\t\"Credit Card Card Payments Transactions Online(e-com)  Value (in Rs 000)\" INTEGER, \n",
      "\t\"Credit Card Card Payments Transactions Others  Volume (in actuals)\" INTEGER, \n",
      "\t\"Credit Card Card Payments Transactions Others  Value (in Rs 000)\" INTEGER, \n",
      "\t\"Credit Card Cash Withdrawal At ATM Volume (in actuals)\" INTEGER, \n",
      "\t\"Credit Card Cash Withdrawal At ATM Value (in Rs 000)\" INTEGER, \n",
      "\t\"Debit Card Card Payments Transactions PoS  Volume (in actuals)\" INTEGER, \n",
      "\t\"Debit Card Card Payments Transactions PoS  Value (in Rs 000)\" INTEGER, \n",
      "\t\"Debit Card Card Payments Transactions Online(e-com)  Volume (in actuals)\" INTEGER, \n",
      "\t\"Debit Card Card Payments Transactions Online(e-com)  Value (in Rs 000)\" INTEGER, \n",
      "\t\"Debit Card Card Payments Transactions Others  Volume (in actuals)\" INTEGER, \n",
      "\t\"Debit Card Card Payments Transactions Others  Value (in Rs 000)\" INTEGER, \n",
      "\t\"Debit Card Cash Withdrawal ATM Volume (in actuals)\" INTEGER, \n",
      "\t\"Debit Card Cash Withdrawal ATM Value (in Rs 000)\" INTEGER, \n",
      "\t\"Debit Card Cash Withdrawal PoS Volume (in actuals)\" INTEGER, \n",
      "\t\"Debit Card Cash Withdrawal PoS Value (in Rs 000)\" INTEGER\n",
      ")\n",
      "\n",
      "Question: Which bank has the highest Credit Card Card Payments Transactions Online(e-com)?\n",
      "\n",
      "SQL Query:\n"
     ]
    }
   ],
   "source": [
    "#query 2\n",
    "question = \"Which bank has the highest Credit Card Card Payments Transactions Online(e-com)?\"\n",
    "prompt = f\"\"\"Based on the table schema below, write a SQL query that would answer the user's question. Only return the SQL query with no line separator at the end.\n",
    "\n",
    "Scheme:\n",
    "{get_schema()}\n",
    "\n",
    "Question: {question}\n",
    "\n",
    "SQL Query:\"\"\"\n",
    "\n",
    "print(prompt)"
   ]
  },
  {
   "cell_type": "code",
   "execution_count": 9,
   "metadata": {},
   "outputs": [
    {
     "name": "stdout",
     "output_type": "stream",
     "text": [
      "content='SELECT \"Bank Name\", \"Credit Card Card Payments Transactions Online(e-com)  Value (in Rs 000)\"\\nFROM npci_table\\nORDER BY \"Credit Card Card Payments Transactions Online(e-com)  Value (in Rs 000)\" DESC\\nLIMIT 1;' response_metadata={'model': 'llama3:instruct', 'created_at': '2024-08-11T19:49:55.7446812Z', 'message': {'role': 'assistant', 'content': ''}, 'done_reason': 'stop', 'done': True, 'total_duration': 40807212400, 'load_duration': 273164900, 'prompt_eval_count': 518, 'prompt_eval_duration': 8780381000, 'eval_count': 55, 'eval_duration': 31654869000} id='run-cf0abab8-7f1a-4583-991c-e9db473c71e4-0'\n"
     ]
    },
    {
     "data": {
      "text/plain": [
       "\"[('HDFC BANK LTD', 279556606)]\""
      ]
     },
     "execution_count": 9,
     "metadata": {},
     "output_type": "execute_result"
    }
   ],
   "source": [
    "answer = llm.invoke(prompt)\n",
    "print(answer)\n",
    "\n",
    "result = db.run(answer.content)\n",
    "result"
   ]
  }
 ],
 "metadata": {
  "kernelspec": {
   "display_name": "Python 3",
   "language": "python",
   "name": "python3"
  },
  "language_info": {
   "codemirror_mode": {
    "name": "ipython",
    "version": 3
   },
   "file_extension": ".py",
   "mimetype": "text/x-python",
   "name": "python",
   "nbconvert_exporter": "python",
   "pygments_lexer": "ipython3",
   "version": "3.9.13"
  }
 },
 "nbformat": 4,
 "nbformat_minor": 2
}
